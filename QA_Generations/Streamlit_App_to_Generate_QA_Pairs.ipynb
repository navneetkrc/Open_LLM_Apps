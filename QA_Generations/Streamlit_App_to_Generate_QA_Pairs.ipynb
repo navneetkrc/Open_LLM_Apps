{
  "nbformat": 4,
  "nbformat_minor": 0,
  "metadata": {
    "colab": {
      "provenance": [],
      "collapsed_sections": [
        "6sXhfLzP1nY2",
        "F61t8u9R9HPv"
      ],
      "authorship_tag": "ABX9TyMW7vdUjSSGQVeaDyvQFQ8i",
      "include_colab_link": true
    },
    "kernelspec": {
      "name": "python3",
      "display_name": "Python 3"
    },
    "language_info": {
      "name": "python"
    }
  },
  "cells": [
    {
      "cell_type": "markdown",
      "metadata": {
        "id": "view-in-github",
        "colab_type": "text"
      },
      "source": [
        "<a href=\"https://colab.research.google.com/github/navneetkrc/Open_LLM_Apps/blob/main/QA_Generations/Streamlit_App_to_Generate_QA_Pairs.ipynb\" target=\"_parent\"><img src=\"https://colab.research.google.com/assets/colab-badge.svg\" alt=\"Open In Colab\"/></a>"
      ]
    },
    {
      "cell_type": "markdown",
      "source": [
        "#Streamlit App to Generate 16 types of QA Pairs\n",
        "Also save as mardown format and txt format"
      ],
      "metadata": {
        "id": "eZK3-x96Aeke"
      }
    },
    {
      "cell_type": "markdown",
      "source": [
        "\n",
        "# 📚 Support Doc Q\\&A Generator\n",
        "\n",
        "This project is designed to process Samsung support documents, generate various types of Q\\&A pairs (e.g., troubleshooting, FAQs, setup guides), and provide the results in multiple formats (Markdown, Text).\n",
        "\n",
        "---\n",
        "\n",
        "## **1. prompts_util.py**\n",
        "\n",
        "The `prompts_util.py` file contains utility functions for generating prompts for different types of Q\\&A pairs. It organizes prompts into a dictionary and provides a single function (`get_prompt`) to fetch the appropriate prompt based on the selected Q\\&A type.\n",
        "\n",
        "### **Functions:**\n",
        "\n",
        "- **`get_prompt(qa_type, text)`**:\n",
        "    - Fetches the appropriate prompt for the given Q\\&A type.\n",
        "    - Combines the prompt template with the provided document text.\n",
        "    - Raises an error if an unknown Q\\&A type is requested.\n",
        "\n",
        "\n",
        "### **Supported Q\\&A Types:**\n",
        "\n",
        "1. **Simple Q\\&A**: General informative pairs covering key features, basic troubleshooting, and usage guidelines.\n",
        "2. **Problem-Solution**: Focuses on problem descriptions and step-by-step solutions with severity indicators.\n",
        "3. **Step-by-Step**: Extracts procedural guides with sequential steps, tool requirements, and time estimates.\n",
        "4. **FAQ**: Predicts common user questions (e.g., \"Why,\" \"How,\" \"What if\").\n",
        "5. **Troubleshooting**: Includes error symptoms, diagnostic checks, and repair procedures with priority levels.\n",
        "6. **Feature Explanation**: Explains technologies with specs, use cases, and compatibility notes.\n",
        "7. **Setup/Installation**: Covers pre-installation checks, configuration options, and post-setup tests.\n",
        "8. **Error Codes**: Explains error codes with interpretations, immediate actions, and service triggers.\n",
        "9. **Safety**: Generates safety-related Q\\&A covering hazard prevention and compliance standards.\n",
        "10. **Compatibility**: Covers device compatibility with models, version requirements, and regional variations.\n",
        "11. **Maintenance**: Preventive maintenance tasks including cleaning procedures and part replacements.\n",
        "12. **Warranty**: Covers warranty details, claim processes, and void conditions.\n",
        "13. **Software Updates**: Includes version histories, rollback methods, and security patches.\n",
        "14. **Preventive Care**: Best practices for failure prevention with early warning signs.\n",
        "15. **Accessory Integration**: Covers pairing steps, compatibility checks, and optimal usage of accessories.\n",
        "16. **Legal/Compliance**: Focuses on certifications, disposal guidelines, and privacy compliance.\n",
        "\n",
        "---\n",
        "\n",
        "## **2. app.py**\n",
        "\n",
        "The `app.py` file is a Streamlit-based application that provides a user interface for generating Q\\&A pairs from Samsung support documents.\n",
        "\n",
        "### **Features:**\n",
        "\n",
        "1. **Input Fields**:\n",
        "    - URL input for the support document PDF.\n",
        "    - Optional input for the Gemini API key (uses system default if left blank).\n",
        "2. **Q\\&A Type Selection**:\n",
        "    - Users can select from 16 types of Q\\&A pairs using checkboxes.\n",
        "    - A \"Select All\" option is available to choose all types at once.\n",
        "3. **Processing Workflow**:\n",
        "    - Downloads the PDF from the provided URL.\n",
        "    - Converts the PDF to Markdown format using `pymupdf4llm`.\n",
        "    - Sends prompts one by one to the Gemini model to generate Q\\&A pairs.\n",
        "4. **Results Display \\& Download**:\n",
        "    - Displays generated Q\\&A pairs in expandable sections for each selected type.\n",
        "    - Provides download options for aggregated results in Markdown format.\n",
        "\n",
        "### **Code Structure:**\n",
        "\n",
        "#### Input Section\n",
        "\n",
        "```python\n",
        "pdf_url = st.text_input(\"🌐 Enter Support Document PDF URL\")\n",
        "api_key = st.text_input(\"🔑 Enter Gemini API Key (optional)\", type=\"password\")\n",
        "```\n",
        "\n",
        "\n",
        "#### Checkbox Selection\n",
        "\n",
        "```python\n",
        "qa_types = [list of 16 QA types]\n",
        "select_all = st.checkbox(\"Select All\", value=False)\n",
        "selected_qa_types = []\n",
        "\n",
        "cols = st.columns(4)\n",
        "for idx, qa_type in enumerate(qa_types):\n",
        "    col_idx = idx % 4\n",
        "    checked = cols[col_idx].checkbox(qa_type, value=(select_all or idx < 5))\n",
        "    if checked:\n",
        "        selected_qa_types.append(qa_type)\n",
        "```\n",
        "\n",
        "\n",
        "#### Processing Workflow\n",
        "\n",
        "```python\n",
        "if pdf_url and st.button(\"🚀 Generate Q&A\"):\n",
        "    pdf_response = requests.get(pdf_url)\n",
        "    markdown_text = pymupdf4llm.to_markdown(\"support_doc.pdf\")\n",
        "    results = {}\n",
        "    for qa_type in selected_qa_types:\n",
        "        prompt = get_prompt(qa_type, markdown_text)\n",
        "        response_text = genai.GenerativeModel('gemini-2.0-flash').generate_content(prompt).text\n",
        "        results[qa_type] = response_text\n",
        "        st.expander(f\"{qa_type} Results\").markdown(response_text)\n",
        "```\n",
        "\n",
        "\n",
        "#### Download Options\n",
        "\n",
        "```python\n",
        "aggregated_markdown_content = \"\"\n",
        "for qa_type, result in results.items():\n",
        "    aggregated_markdown_content += f\"## {qa_type}\\n\\n{result}\\n\\n---\\n\\n\"\n",
        "\n",
        "st.download_button(\n",
        "    label=\"📥 Download Aggregated Results (Markdown)\",\n",
        "    data=aggregated_markdown_content,\n",
        "    file_name=\"aggregated_results.md\"\n",
        ")\n",
        "```\n",
        "\n",
        "---\n",
        "\n",
        "## Example Workflow\n",
        "\n",
        "1. Enter a Samsung support document URL (e.g., `https://downloadcenter.samsung.com/...`).\n",
        "2. Optionally enter your Gemini API key or use the default system key.\n",
        "3. Select desired Q\\&A types using checkboxes or click \"Select All.\"\n",
        "4. Click \"Generate Q\\&A\" to process the document and generate results.\n",
        "5. View results in expandable sections or download them as a Markdown file.\n",
        "\n",
        "---\n",
        "\n",
        "## Summary Table\n",
        "\n",
        "| File | Purpose |\n",
        "| :-- | :-- |\n",
        "| `prompts_util.py` | Contains prompt templates for generating different types of Q\\&A pairs based on user input. |\n",
        "| `app.py` | Streamlit app that provides a user interface for generating and downloading Q\\&A pairs |\n",
        "\n",
        "This implementation ensures modularity (`prompts_util.py`) while providing an intuitive UI (`app.py`) for end-users to interact with Samsung support documents effectively!\n",
        "\n",
        "<div style=\"text-align: center\">⁂</div>\n",
        "\n",
        "[^1]: https://ppl-ai-file-upload.s3.amazonaws.com/web/direct-files/55174337/b45037b2-7c47-4793-b034-8d7a6e2b97be/qa_generation_for_kitchen_appliances_from_support_docs.py\n",
        "\n",
        "[^2]: https://ppl-ai-file-upload.s3.amazonaws.com/web/direct-files/55174337/1f2f058d-3c07-4a39-879d-e77a4ede61ee/Samsung-Support-Doc-Q-A-Generator.pdf\n",
        "\n"
      ],
      "metadata": {
        "id": "ny5cj09XAekf"
      }
    },
    {
      "cell_type": "code",
      "source": [
        "#Step 1: Install Dependencies and Setup ngrok\n",
        "\n",
        "# Install required packages\n",
        "!pip install streamlit pyngrok pymupdf4llm fpdf google-generativeai -q"
      ],
      "metadata": {
        "id": "cK2l4UsAODuU"
      },
      "execution_count": null,
      "outputs": []
    },
    {
      "cell_type": "code",
      "source": [
        "#Step 1: Install Dependencies and Setup ngrok\n",
        "\n",
        "# Import ngrok and set up authentication\n",
        "from pyngrok import ngrok\n",
        "from google.colab import userdata\n",
        "\n",
        "# Set up ngrok authentication\n",
        "ngrok_token = userdata.get('NGROK_AUTH_TOKEN')\n",
        "if ngrok_token:\n",
        "    !ngrok config add-authtoken {ngrok_token}\n",
        "else:\n",
        "    print(\"WARNING: No ngrok auth token found in Colab userdata. Public URL may not work correctly.\")"
      ],
      "metadata": {
        "id": "RZ4a1xxVAekf"
      },
      "execution_count": null,
      "outputs": []
    },
    {
      "cell_type": "code",
      "source": [
        "%%writefile prompts_util.py\n",
        "# prompts_util.py\n",
        "from textwrap import dedent\n",
        "\n",
        "# Define the prompts dictionary\n",
        "prompts = {\n",
        "    \"Simple Q&A\": \"\"\"Generate fundamental Q&A pairs covering key features, basic troubleshooting, and usage guidelines.\"\"\",\n",
        "    \"Problem-Solution\": \"\"\"Create problem-solution pairs with severity indicators.\"\"\",\n",
        "    \"Step-by-Step\": \"\"\"Generate step-by-step procedural guides with tools and time estimates.\"\"\",\n",
        "    \"FAQ\": \"\"\"Predict common FAQs including 'Why', 'How', 'What if' scenarios.\"\"\",\n",
        "    \"Troubleshooting\": \"\"\"Create advanced troubleshooting guides with error symptoms, diagnostics, and priority levels.\"\"\",\n",
        "    \"Feature Explanation\": \"\"\"Explain Samsung technologies including technical specs, use cases, compatibility notes.\"\"\",\n",
        "    \"Setup/Installation\": \"\"\"Generate setup-related Q&A including pre-installation checks, configurations, post-setup tests.\"\"\",\n",
        "    \"Error Codes\": \"\"\"Explain error codes clearly with immediate actions and service triggers.\"\"\",\n",
        "    \"Safety\": \"\"\"Generate safety Q&A covering hazard prevention, compliance standards, recall info.\"\"\",\n",
        "    \"Compatibility\": \"\"\"Generate compatibility Q&A pairs covering supported models, versions, regional variations.\"\"\",\n",
        "    \"Maintenance\": \"\"\"Generate preventive maintenance Q&A including service intervals, cleaning procedures, part replacements.\"\"\",\n",
        "    \"Warranty\": \"\"\"Generate warranty Q&A covering coverage details, claim processes, void conditions.\"\"\",\n",
        "    \"Software Updates\": \"\"\"Generate software update Q&A including version histories, rollback methods, security patches.\"\"\",\n",
        "    \"Preventive Care\": \"\"\"Generate preventive care Q&A pairs including best practices, early warnings, monitoring tips.\"\"\",\n",
        "    \"Accessory Integration\": \"\"\"Generate accessory integration Q&A covering pairing steps, compatibility checks, optimal usage.\"\"\",\n",
        "    \"Legal/Compliance\": \"\"\"Generate regulatory/compliance Q&A pairs covering certification details, disposal guidelines, privacy compliance.\"\"\"\n",
        "}\n",
        "\n",
        "# Function to fetch prompt based on QA type\n",
        "def get_prompt(qa_type, text):\n",
        "    if qa_type not in prompts:\n",
        "        raise ValueError(f\"Unknown QA type: {qa_type}\")\n",
        "\n",
        "    return dedent(f\"{prompts[qa_type]}\\n\\nText: {text}\")"
      ],
      "metadata": {
        "colab": {
          "base_uri": "https://localhost:8080/"
        },
        "id": "P7s1NRx3AkSt",
        "outputId": "771bba9d-f93a-4cb2-a73c-2ee22235d7d7"
      },
      "execution_count": 7,
      "outputs": [
        {
          "output_type": "stream",
          "name": "stdout",
          "text": [
            "Overwriting prompts_util.py\n"
          ]
        }
      ]
    },
    {
      "cell_type": "code",
      "source": [
        "%%writefile streamlit_app.py\n",
        "# import streamlit as st\n",
        "import streamlit as st\n",
        "import requests\n",
        "import os\n",
        "import pymupdf4llm\n",
        "import google.generativeai as genai\n",
        "from prompts_util import get_prompt  # Import prompt generation function\n",
        "\n",
        "st.set_page_config(page_title=\"Support Doc Q&A Generator\", layout=\"wide\")\n",
        "# st.set_page_config(page_title=\"Samsung Support Doc Q&A Generator\", layout=\"wide\")\n",
        "\n",
        "st.title(\"📚 Support Doc Q&A Generator\")\n",
        "# st.title(\"📚 Samsung Support Doc Q&A Generator\")\n",
        "\n",
        "# URL input at top\n",
        "pdf_url = st.text_input(\"🌐 Enter Support Document PDF URL\")\n",
        "\n",
        "# Optional API Key input below URL field\n",
        "api_key = st.text_input(\"🔑 Enter Gemini API Key (optional)\", type=\"password\")\n",
        "if not api_key:\n",
        "    api_key = os.getenv('GOOGLE_API_KEY')\n",
        "if not api_key:\n",
        "    st.error(\"No default API key found. Please enter your Gemini API Key.\")\n",
        "    st.stop()\n",
        "\n",
        "genai.configure(api_key=api_key)\n",
        "\n",
        "# List of QA types\n",
        "qa_types = [\n",
        "    \"Simple Q&A\",\n",
        "    \"Problem-Solution\",\n",
        "    \"Step-by-Step\",\n",
        "    \"FAQ\",\n",
        "    \"Troubleshooting\",\n",
        "    \"Feature Explanation\",\n",
        "    \"Setup/Installation\",\n",
        "    \"Error Codes\",\n",
        "    \"Safety\",\n",
        "    \"Compatibility\",\n",
        "    \"Maintenance\",\n",
        "    \"Warranty\",\n",
        "    \"Software Updates\",\n",
        "    \"Preventive Care\",\n",
        "    \"Accessory Integration\",\n",
        "    \"Legal/Compliance\"\n",
        "]\n",
        "\n",
        "# Checkbox selection for QA types\n",
        "st.write(\"### Select Types of Q&A to Generate:\")\n",
        "select_all = st.checkbox(\"Select All\", value=False)\n",
        "\n",
        "selected_qa_types = []\n",
        "cols = st.columns(4)  # Split checkboxes into 4 columns for better visibility\n",
        "\n",
        "for idx, qa_type in enumerate(qa_types):\n",
        "    col_idx = idx % 4  # Distribute checkboxes across columns\n",
        "    checked = cols[col_idx].checkbox(qa_type, value=(select_all or idx < 5))  # Default select first 5 or all if 'Select All' is checked\n",
        "    if checked:\n",
        "        selected_qa_types.append(qa_type)\n",
        "\n",
        "if pdf_url and st.button(\"🚀 Generate Q&A\"):\n",
        "    with st.spinner(\"Downloading PDF...\"):\n",
        "        pdf_response = requests.get(pdf_url)\n",
        "        with open(\"support_doc.pdf\", 'wb') as file:\n",
        "            file.write(pdf_response.content)\n",
        "\n",
        "    with st.spinner(\"Extracting Text...\"):\n",
        "        markdown_text = pymupdf4llm.to_markdown(\"support_doc.pdf\")\n",
        "\n",
        "    results = {}\n",
        "\n",
        "    # Generate Q&A pairs for each selected type\n",
        "    for qa_type in selected_qa_types:\n",
        "        with st.spinner(f\"Generating {qa_type}...\"):\n",
        "            prompt = get_prompt(qa_type, markdown_text)  # Get prompt for the QA type\n",
        "            response_text = genai.GenerativeModel('gemini-2.0-flash').generate_content(prompt).text\n",
        "            results[qa_type] = response_text\n",
        "\n",
        "            # Display each generated QA type clearly in expandable sections\n",
        "            with st.expander(f\"{qa_type} Results\"):\n",
        "                st.markdown(response_text)\n",
        "\n",
        "    # Aggregate markdown dynamically after loop completes fully\n",
        "    aggregated_markdown_content = \"\"\n",
        "\n",
        "    for qa_type, result in results.items():\n",
        "        aggregated_markdown_content += f\"## {qa_type}\\n\\n{result}\\n\\n---\\n\\n\"\n",
        "\n",
        "    # Download button for aggregated markdown clearly provided at end after loop completes fully\n",
        "    st.download_button(\n",
        "        label=\"📥 Download Aggregated Results (Markdown)\",\n",
        "        data=aggregated_markdown_content,\n",
        "        file_name=\"aggregated_results.md\"\n",
        "     )\n"
      ],
      "metadata": {
        "colab": {
          "base_uri": "https://localhost:8080/"
        },
        "id": "AFY1jC_bMsUk",
        "outputId": "b86b49fe-fd2b-448d-f1ce-fece7a1630ca"
      },
      "execution_count": 15,
      "outputs": [
        {
          "output_type": "stream",
          "name": "stdout",
          "text": [
            "Overwriting streamlit_app.py\n"
          ]
        }
      ]
    },
    {
      "cell_type": "code",
      "source": [
        "# Step 3.1: Close Existing ngrok Tunnels\n",
        "#Close all existing tunnels to avoid limit errors\n",
        "ngrok.kill()\n",
        "print(\"✅ All existing ngrok tunnels closed successfully.\")"
      ],
      "metadata": {
        "colab": {
          "base_uri": "https://localhost:8080/"
        },
        "outputId": "cd871af6-7736-4fc8-db2d-65fbf7e1ac9c",
        "id": "jHofzHDWAekg"
      },
      "execution_count": 16,
      "outputs": [
        {
          "output_type": "stream",
          "name": "stdout",
          "text": [
            "✅ All existing ngrok tunnels closed successfully.\n"
          ]
        }
      ]
    },
    {
      "cell_type": "code",
      "source": [
        "#Step 3.2: Run the Streamlit App and Create Tunnel\n",
        "\n",
        "import subprocess, time\n",
        "from pyngrok import ngrok\n",
        "\n",
        "# Set environment variable for API key\n",
        "import os\n",
        "from google.colab import userdata\n",
        "\n",
        "# Get GOOGLE_API_KEY from userdata\n",
        "google_api_key = userdata.get('GOOGLE_API_KEY')\n",
        "if google_api_key:\n",
        "    os.environ['GOOGLE_API_KEY'] = google_api_key\n",
        "else:\n",
        "    print(\"Warning: No GOOGLE_API_KEY found in userdata.\")\n",
        "\n",
        "# Run Streamlit app in background on port 8501 explicitly set\n",
        "subprocess.Popen([\"streamlit\", \"run\", \"streamlit_app.py\", \"--server.port=8501\"])\n",
        "\n",
        "# Wait briefly for Streamlit to start before creating tunnel\n",
        "time.sleep(5)\n",
        "\n",
        "# Create ngrok tunnel explicitly on port 8501 and display public URL clearly\n",
        "public_url = ngrok.connect(addr=8501)\n",
        "print(f\"\\n✅ Streamlit app is running successfully!\")\n",
        "print(f\"🌐 Public URL: {public_url}\\n\")\n"
      ],
      "metadata": {
        "colab": {
          "base_uri": "https://localhost:8080/"
        },
        "outputId": "d59e2823-9bc1-48a7-a910-87d2c821e3a0",
        "id": "MM-A2v-5Aekg"
      },
      "execution_count": 17,
      "outputs": [
        {
          "output_type": "stream",
          "name": "stdout",
          "text": [
            "\n",
            "✅ Streamlit app is running successfully!\n",
            "🌐 Public URL: NgrokTunnel: \"https://35e1-35-237-9-124.ngrok-free.app\" -> \"http://localhost:8501\"\n",
            "\n"
          ]
        }
      ]
    },
    {
      "cell_type": "code",
      "source": [],
      "metadata": {
        "id": "nlv-t10PAekg"
      },
      "execution_count": null,
      "outputs": []
    },
    {
      "cell_type": "code",
      "source": [],
      "metadata": {
        "id": "XWXENf9cAekg"
      },
      "execution_count": null,
      "outputs": []
    },
    {
      "cell_type": "markdown",
      "source": [
        "#Streamlit App to Generate QA Pairs\n",
        "Also save as mardown format and txt format"
      ],
      "metadata": {
        "id": "6sXhfLzP1nY2"
      }
    },
    {
      "cell_type": "markdown",
      "source": [
        "## Key Features of the Modified App\n",
        "\n",
        "### Multiple Download Formats:\n",
        "- **Text format (.txt)** - Simple plain text output  \n",
        "- **Markdown format (.md)** - Formatted with headers and structure  \n",
        "\n",
        "### Simplified Design:\n",
        "- URL input field at the top  \n",
        "- Optional API key field below  \n",
        "- Clear success/error messages  \n",
        "\n",
        "### Streamlined Process:\n",
        "- Downloads PDF from provided URL  \n",
        "- Extracts text using `pymupdf4llm`  \n",
        "- Generates Q&A pairs using Gemini  \n",
        "- Provides download options in multiple formats  \n",
        "\n",
        "### User-Friendly Interface:\n",
        "- Expandable sections for each Q&A category  \n",
        "- Clear download buttons  \n",
        "- Progress indicators during processing  \n",
        "\n",
        "### Error Handling:\n",
        "- Validates URL and PDF download  \n",
        "- Handles API key issues gracefully  \n",
        "- Provides clear error messages  \n",
        "\n",
        "---\n",
        "\n",
        "## How to Use the App  \n",
        "1. Run the code cells in order in Google Colab  \n",
        "2. Open the provided public URL  \n",
        "3. Enter a Samsung support document URL  \n",
        "4. Optionally provide your own Gemini API key  \n",
        "5. Click **\"Generate Q&A\"**  \n",
        "6. View the generated Q&A pairs in the expandable sections  \n",
        "7. Download the results in your preferred format (text or markdown)  \n",
        "\n",
        "> *This implementation meets all requirements while providing flexible download options for generated Q&A pairs.*  "
      ],
      "metadata": {
        "id": "iiRDwVq5-kWq"
      }
    },
    {
      "cell_type": "code",
      "source": [
        "#Step 1: Install Dependencies and Setup ngrok\n",
        "\n",
        "# Install required packages\n",
        "!pip install streamlit pyngrok pymupdf4llm fpdf google-generativeai -q\n",
        "\n",
        "# Import ngrok and set up authentication\n",
        "from pyngrok import ngrok\n",
        "from google.colab import userdata\n",
        "\n",
        "# Set up ngrok authentication\n",
        "ngrok_token = userdata.get('NGROK_AUTH_TOKEN')\n",
        "if ngrok_token:\n",
        "    !ngrok config add-authtoken {ngrok_token}\n",
        "else:\n",
        "    print(\"WARNING: No ngrok auth token found in Colab userdata. Public URL may not work correctly.\")\n"
      ],
      "metadata": {
        "colab": {
          "base_uri": "https://localhost:8080/"
        },
        "id": "6I_lsl_XzQxg",
        "outputId": "ff8006e8-861d-450a-d4d3-b58d8c3e7312"
      },
      "execution_count": 13,
      "outputs": [
        {
          "output_type": "stream",
          "name": "stdout",
          "text": [
            "Authtoken saved to configuration file: /root/.config/ngrok/ngrok.yml\n"
          ]
        }
      ]
    },
    {
      "cell_type": "code",
      "source": [
        "#Step 2: Create the Streamlit App\n",
        "\n",
        "%%writefile app.py\n",
        "import streamlit as st\n",
        "import requests\n",
        "import os\n",
        "import pymupdf4llm\n",
        "import google.generativeai as genai\n",
        "import base64\n",
        "from textwrap import dedent\n",
        "import json\n",
        "import markdown\n",
        "\n",
        "st.set_page_config(page_title=\"Samsung Support Doc Q&A Generator\", layout=\"wide\")\n",
        "\n",
        "# Function to download PDF from URL\n",
        "def download_pdf(url, filename=\"support_doc.pdf\"):\n",
        "    try:\n",
        "        response = requests.get(url)\n",
        "        response.raise_for_status()\n",
        "        with open(filename, 'wb') as f:\n",
        "            f.write(response.content)\n",
        "        return True, filename\n",
        "    except Exception as e:\n",
        "        return False, str(e)\n",
        "\n",
        "# Function to convert PDF to markdown\n",
        "def pdf_to_markdown(pdf_path):\n",
        "    try:\n",
        "        markdown_text = pymupdf4llm.to_markdown(pdf_path)\n",
        "        return True, markdown_text\n",
        "    except Exception as e:\n",
        "        return False, str(e)\n",
        "\n",
        "# Function to create a download link for text file\n",
        "def get_download_link(text, filename=\"results.txt\", label=\"Download Results\"):\n",
        "    b64 = base64.b64encode(text.encode()).decode()\n",
        "    href = f'<a href=\"data:file/txt;base64,{b64}\" download=\"{filename}\">{label}</a>'\n",
        "    return href\n",
        "\n",
        "# Function to create a download link for markdown file\n",
        "def get_markdown_download_link(text, filename=\"results.md\", label=\"Download as Markdown\"):\n",
        "    b64 = base64.b64encode(text.encode()).decode()\n",
        "    href = f'<a href=\"data:text/markdown;base64,{b64}\" download=\"{filename}\">{label}</a>'\n",
        "    return href\n",
        "\n",
        "# Function to generate Q&A pairs\n",
        "def generate_qa_pairs(text, model_name='gemini-2.0-flash'):\n",
        "    model = genai.GenerativeModel(model_name)\n",
        "\n",
        "    # Define QA generation functions\n",
        "    qa_functions = {\n",
        "        \"Simple Q&A\": {\n",
        "            \"function\": lambda text: model.generate_content(dedent(f\"\"\"\n",
        "                Generate fundamental Q&A pairs from Samsung support docs covering:\n",
        "                - Key features\n",
        "                - Basic troubleshooting\n",
        "                - Usage guidelines\n",
        "                Use consumer-friendly language with concise answers (1-2 sentences).\n",
        "                Text: {text}\n",
        "                \"\"\")).text\n",
        "        },\n",
        "        \"Problem-Solution\": {\n",
        "            \"function\": lambda text: model.generate_content(dedent(f\"\"\"\n",
        "                Create problem-solution pairs from Samsung docs. Format:\n",
        "                Question: [Issue description]\n",
        "                Answer: [Step-by-step fix]\n",
        "                Include severity indicators (⚠️) for critical issues.\n",
        "                Text: {text}\n",
        "                \"\"\")).text\n",
        "        },\n",
        "        \"Step-by-Step\": {\n",
        "            \"function\": lambda text: model.generate_content(dedent(f\"\"\"\n",
        "                Extract step-by-step procedures and generate Q&A pairs with:\n",
        "                - Sequential questions\n",
        "                - Tool requirements\n",
        "                - Time estimates\n",
        "                Format steps with numbered sub-items.\n",
        "                Text: {text}\n",
        "                \"\"\")).text\n",
        "        },\n",
        "        \"FAQ\": {\n",
        "            \"function\": lambda text: model.generate_content(dedent(f\"\"\"\n",
        "                Predict common FAQs from Samsung users based on this text.\n",
        "                Phrase questions as natural customer inquiries.\n",
        "                Include 'Why', 'How', and 'What if' scenarios.\n",
        "                Text: {text}\n",
        "                \"\"\")).text\n",
        "        },\n",
        "        \"Troubleshooting\": {\n",
        "            \"function\": lambda text: model.generate_content(dedent(f\"\"\"\n",
        "                Create advanced troubleshooting pairs including:\n",
        "                - Error symptoms\n",
        "                - Diagnostic checks\n",
        "                - Repair procedures\n",
        "                Format solutions with priority levels (Critical/High/Medium).\n",
        "                Text: {text}\n",
        "                \"\"\")).text\n",
        "        }\n",
        "    }\n",
        "\n",
        "    results = {}\n",
        "    for name, qa_function in qa_functions.items():\n",
        "        try:\n",
        "            results[name] = qa_function[\"function\"](text)\n",
        "        except Exception as e:\n",
        "            results[name] = f\"Error generating {name} Q&A: {str(e)}\"\n",
        "\n",
        "    return results\n",
        "\n",
        "# Function to save results to text file\n",
        "def save_results_to_text(results, filename=\"qa_results.txt\"):\n",
        "    with open(filename, \"w\", encoding=\"utf-8\") as f:\n",
        "        for category, result in results.items():\n",
        "            f.write(f\"\\n\\n{'='*50}\\n{category}\\n{'='*50}\\n\\n\")\n",
        "            f.write(result)\n",
        "\n",
        "    with open(filename, \"r\", encoding=\"utf-8\") as f:\n",
        "        return f.read()\n",
        "\n",
        "# Function to save results to markdown file\n",
        "def save_results_to_markdown(results, filename=\"qa_results.md\"):\n",
        "    with open(filename, \"w\", encoding=\"utf-8\") as f:\n",
        "        for category, result in results.items():\n",
        "            f.write(f\"\\n\\n## {category}\\n\\n\")\n",
        "            f.write(result)\n",
        "\n",
        "    with open(filename, \"r\", encoding=\"utf-8\") as f:\n",
        "        return f.read()\n",
        "\n",
        "# Main app\n",
        "def main():\n",
        "    st.title(\"📚 Samsung Support Doc Q&A Generator\")\n",
        "\n",
        "    # URL input first\n",
        "    pdf_url = st.text_input(\"🌐 Enter Support Document PDF URL\")\n",
        "\n",
        "    # API Key input (optional, below URL field)\n",
        "    api_key = st.text_input(\"🔑 Enter Gemini API Key (optional)\", type=\"password\")\n",
        "\n",
        "    if not api_key:\n",
        "        api_key = os.getenv('GOOGLE_API_KEY')\n",
        "        if api_key:\n",
        "            st.success(\"Using system default Gemini API key.\")\n",
        "        else:\n",
        "            st.error(\"No default API key found. Please enter your Gemini API Key.\")\n",
        "            st.stop()\n",
        "\n",
        "    # Configure Gemini\n",
        "    genai.configure(api_key=api_key)\n",
        "\n",
        "    if pdf_url and st.button(\"🚀 Generate Q&A\"):\n",
        "        with st.spinner(\"Downloading document...\"):\n",
        "            success, result = download_pdf(pdf_url)\n",
        "\n",
        "            if not success:\n",
        "                st.error(f\"Failed to download PDF: {result}\")\n",
        "                return\n",
        "\n",
        "            st.success(f\"Document downloaded as {result}\")\n",
        "\n",
        "            # Convert PDF to markdown\n",
        "            with st.spinner(\"Converting PDF to text...\"):\n",
        "                success, markdown_text = pdf_to_markdown(result)\n",
        "\n",
        "                if not success:\n",
        "                    st.error(f\"Failed to convert PDF: {markdown_text}\")\n",
        "                    return\n",
        "\n",
        "                st.success(\"PDF converted to text successfully\")\n",
        "\n",
        "                # Generate Q&A pairs\n",
        "                with st.spinner(\"Generating Q&A pairs... This may take a few minutes.\"):\n",
        "                    results = generate_qa_pairs(markdown_text)\n",
        "\n",
        "                    # Display results in expandable sections\n",
        "                    for category, result in results.items():\n",
        "                        with st.expander(f\"{category} Q&A\"):\n",
        "                            st.markdown(result)\n",
        "\n",
        "                    # Save results in different formats\n",
        "                    text_content = save_results_to_text(results)\n",
        "                    markdown_content = save_results_to_markdown(results)\n",
        "\n",
        "                    # Provide download links\n",
        "                    st.markdown(\"### Download Results\")\n",
        "                    col1, col2 = st.columns(2)\n",
        "                    with col1:\n",
        "                        st.markdown(get_download_link(text_content, \"samsung_qa_results.txt\", \"Download as Text\"), unsafe_allow_html=True)\n",
        "                        st.markdown(get_markdown_download_link(markdown_content, \"samsung_qa_results.md\", \"Download as Markdown\"), unsafe_allow_html=True)\n",
        "\n",
        "if __name__ == \"__main__\":\n",
        "    main()\n"
      ],
      "metadata": {
        "colab": {
          "base_uri": "https://localhost:8080/"
        },
        "id": "ZXdAWJXs5jht",
        "outputId": "fe14a58e-d336-4c00-cf9c-c27ba945ce68"
      },
      "execution_count": 15,
      "outputs": [
        {
          "output_type": "stream",
          "name": "stdout",
          "text": [
            "Writing app.py\n"
          ]
        }
      ]
    },
    {
      "cell_type": "code",
      "source": [
        "# Step 3.1: Close Existing ngrok Tunnels\n",
        "#Close all existing tunnels to avoid limit errors\n",
        "ngrok.kill()\n",
        "print(\"✅ All existing ngrok tunnels closed successfully.\")\n"
      ],
      "metadata": {
        "colab": {
          "base_uri": "https://localhost:8080/"
        },
        "id": "bg7tz3C83lTI",
        "outputId": "44958b3b-48fe-46e8-81f3-5f130ba8ea9b"
      },
      "execution_count": 14,
      "outputs": [
        {
          "output_type": "stream",
          "name": "stdout",
          "text": [
            "✅ All existing ngrok tunnels closed successfully.\n"
          ]
        }
      ]
    },
    {
      "cell_type": "code",
      "source": [
        "#Step 3.2: Run the Streamlit App and Create Tunnel\n",
        "\n",
        "import subprocess, time\n",
        "from pyngrok import ngrok\n",
        "\n",
        "# Set environment variable for API key\n",
        "import os\n",
        "from google.colab import userdata\n",
        "\n",
        "# Get GOOGLE_API_KEY from userdata\n",
        "google_api_key = userdata.get('GOOGLE_API_KEY')\n",
        "if google_api_key:\n",
        "    os.environ['GOOGLE_API_KEY'] = google_api_key\n",
        "else:\n",
        "    print(\"Warning: No GOOGLE_API_KEY found in userdata.\")\n",
        "\n",
        "# Run Streamlit app in background on port 8501 explicitly set\n",
        "subprocess.Popen([\"streamlit\", \"run\", \"app.py\", \"--server.port=8501\"])\n",
        "\n",
        "# Wait briefly for Streamlit to start before creating tunnel\n",
        "time.sleep(5)\n",
        "\n",
        "# Create ngrok tunnel explicitly on port 8501 and display public URL clearly\n",
        "public_url = ngrok.connect(addr=8501)\n",
        "print(f\"\\n✅ Streamlit app is running successfully!\")\n",
        "print(f\"🌐 Public URL: {public_url}\\n\")\n"
      ],
      "metadata": {
        "colab": {
          "base_uri": "https://localhost:8080/"
        },
        "id": "qdb95hBP6Nlm",
        "outputId": "017ee10e-0573-4b87-f976-3934b7347d18"
      },
      "execution_count": 16,
      "outputs": [
        {
          "output_type": "stream",
          "name": "stdout",
          "text": [
            "\n",
            "✅ Streamlit app is running successfully!\n",
            "🌐 Public URL: NgrokTunnel: \"https://db79-34-59-149-194.ngrok-free.app\" -> \"http://localhost:8501\"\n",
            "\n"
          ]
        }
      ]
    },
    {
      "cell_type": "code",
      "source": [],
      "metadata": {
        "id": "RLDS8BqB6Nob"
      },
      "execution_count": null,
      "outputs": []
    },
    {
      "cell_type": "code",
      "source": [],
      "metadata": {
        "id": "YxW0Ovr96NrC"
      },
      "execution_count": null,
      "outputs": []
    },
    {
      "cell_type": "markdown",
      "source": [
        "#old"
      ],
      "metadata": {
        "id": "F61t8u9R9HPv"
      }
    },
    {
      "cell_type": "code",
      "source": [
        "#▶️ Step 1: Install Dependencies & Setup ngrok Authentication\n",
        "# Install dependencies\n",
        "!pip install streamlit pyngrok pymupdf4llm fpdf google-generativeai -q\n",
        "\n",
        "# Setup ngrok authentication\n",
        "from google.colab import userdata\n",
        "ngrok_token = userdata.get('NGROK_AUTH_TOKEN')\n",
        "if ngrok_token:\n",
        "    !ngrok config add-authtoken {ngrok_token}\n",
        "else:\n",
        "    raise Exception(\"Please set NGROK_AUTH_TOKEN in your Colab userdata.\")\n"
      ],
      "metadata": {
        "colab": {
          "base_uri": "https://localhost:8080/"
        },
        "id": "SBkeLqZpy4nL",
        "outputId": "9981a9c8-2ef1-425d-f7ef-48790aca0cee"
      },
      "execution_count": 25,
      "outputs": [
        {
          "output_type": "stream",
          "name": "stdout",
          "text": [
            "Authtoken saved to configuration file: /root/.config/ngrok/ngrok.yml\n"
          ]
        }
      ]
    },
    {
      "cell_type": "code",
      "source": [
        "#▶️ Step 2: Download Unicode Font for PDF Generation\n",
        "\n",
        "# Download DejaVuSans font for Unicode support\n",
        "!wget https://github.com/dejavu-fonts/dejavu-fonts/raw/master/ttf/DejaVuSans.ttf -O DejaVuSans.ttf\n"
      ],
      "metadata": {
        "colab": {
          "base_uri": "https://localhost:8080/"
        },
        "id": "q9LFDAfky4qR",
        "outputId": "6359707a-23d3-47d9-9720-88a4084714ae"
      },
      "execution_count": 26,
      "outputs": [
        {
          "output_type": "stream",
          "name": "stdout",
          "text": [
            "--2025-03-08 22:07:18--  https://github.com/dejavu-fonts/dejavu-fonts/raw/master/ttf/DejaVuSans.ttf\n",
            "Resolving github.com (github.com)... 140.82.113.4\n",
            "Connecting to github.com (github.com)|140.82.113.4|:443... connected.\n",
            "HTTP request sent, awaiting response... 404 Not Found\n",
            "2025-03-08 22:07:18 ERROR 404: Not Found.\n",
            "\n"
          ]
        }
      ]
    },
    {
      "cell_type": "code",
      "source": [
        "#▶️ Step 3: Create Streamlit App (app.py)\n",
        "%%writefile app.py\n",
        "import streamlit as st\n",
        "import requests, pymupdf4llm, google.generativeai as genai, base64\n",
        "from google.colab import userdata\n",
        "from fpdf import FPDF\n",
        "from textwrap import dedent\n",
        "\n",
        "st.set_page_config(page_title=\"Support Doc Q&A Generator\", layout=\"wide\")\n",
        "st.title(\"📚 Samsung Support Doc Q&A Generator\")\n",
        "\n",
        "# API Key handling (allow blank submission)\n",
        "api_key = st.text_input(\"🔑 Enter Gemini API Key (leave blank to use default)\", type=\"password\")\n",
        "if not api_key:\n",
        "    api_key = userdata.get('GOOGLE_API_KEY')\n",
        "    if api_key:\n",
        "        st.success(\"Using default Gemini API key from system.\")\n",
        "    else:\n",
        "        st.error(\"No default API key found. Please enter your Gemini API Key.\")\n",
        "        st.stop()\n",
        "\n",
        "genai.configure(api_key=api_key)\n",
        "\n",
        "# PDF URL input from user\n",
        "pdf_url = st.text_input(\"🌐 Enter Support Document PDF URL\")\n",
        "\n",
        "if pdf_url and st.button(\"🚀 Generate Q&A\"):\n",
        "    with st.spinner(\"Downloading PDF...\"):\n",
        "        pdf_response = requests.get(pdf_url)\n",
        "        with open(\"support_doc.pdf\", \"wb\") as f:\n",
        "            f.write(pdf_response.content)\n",
        "        st.success(\"✅ PDF downloaded successfully.\")\n",
        "\n",
        "    with st.spinner(\"Extracting text from PDF...\"):\n",
        "        markdown_text = pymupdf4llm.to_markdown(\"support_doc.pdf\")\n",
        "        st.success(\"✅ Text extracted successfully.\")\n",
        "\n",
        "    # Generate Q&A using Gemini model\n",
        "    model = genai.GenerativeModel('gemini-2.0-flash')\n",
        "    prompt = dedent(f\"\"\"\n",
        "        Generate structured Q&A pairs covering key features, troubleshooting, and usage guidelines.\n",
        "        Text: {markdown_text}\n",
        "    \"\"\")\n",
        "    with st.spinner(\"Generating Q&A pairs...\"):\n",
        "        result = model.generate_content(prompt).text\n",
        "\n",
        "    # Save results into a nicely formatted PDF using Unicode font\n",
        "    pdf = FPDF()\n",
        "    pdf.add_page()\n",
        "    pdf.add_font('DejaVu', '', 'DejaVuSans.ttf', uni=True)\n",
        "    pdf.set_font('DejaVu', size=12)\n",
        "\n",
        "    pdf.multi_cell(0, 8, result)\n",
        "    pdf.output(\"aggregated_results.pdf\")\n",
        "\n",
        "    # Provide download link for aggregated results PDF\n",
        "    with open(\"aggregated_results.pdf\", \"rb\") as file:\n",
        "        btn = st.download_button(\n",
        "            label=\"📥 Download Aggregated Results PDF\",\n",
        "            data=file,\n",
        "            file_name=\"aggregated_results.pdf\",\n",
        "            mime=\"application/pdf\"\n",
        "        )\n"
      ],
      "metadata": {
        "colab": {
          "base_uri": "https://localhost:8080/"
        },
        "id": "pQD0_HAay4uc",
        "outputId": "1a61129d-90f4-48ef-e294-52b85ab86413"
      },
      "execution_count": 27,
      "outputs": [
        {
          "output_type": "stream",
          "name": "stdout",
          "text": [
            "Overwriting app.py\n"
          ]
        }
      ]
    },
    {
      "cell_type": "code",
      "source": [
        "#✅ Step 4.1: Ensure All Existing Tunnels Are Closed (Important Fix)\n",
        "from pyngrok import ngrok\n",
        "\n",
        "# Close all existing ngrok tunnels\n",
        "tunnels = ngrok.get_tunnels()\n",
        "for tunnel in tunnels:\n",
        "    ngrok.disconnect(tunnel.public_url)\n",
        "\n",
        "# Verify no tunnels remain active\n",
        "if len(ngrok.get_tunnels()) == 0:\n",
        "    print(\"✅ All existing ngrok tunnels closed successfully.\")\n",
        "else:\n",
        "    print(\"⚠️ Some tunnels are still open. Consider restarting runtime.\")\n"
      ],
      "metadata": {
        "colab": {
          "base_uri": "https://localhost:8080/"
        },
        "id": "DwQUq-8Bz8KD",
        "outputId": "3607de3c-75e0-41db-db8b-e70cbe7f54df"
      },
      "execution_count": 29,
      "outputs": [
        {
          "output_type": "stream",
          "name": "stderr",
          "text": [
            "WARNING:pyngrok.process.ngrok:t=2025-03-08T22:11:29+0000 lvl=warn msg=\"Stopping forwarder\" name=http-8501-b30db837-a371-4f17-a7f2-e50f26cac082 acceptErr=\"failed to accept connection: Listener closed\"\n",
            "WARNING:pyngrok.process.ngrok:t=2025-03-08T22:11:29+0000 lvl=warn msg=\"Stopping forwarder\" name=http-8501-459cd900-45a1-4aff-947b-99a0c47a9655 acceptErr=\"failed to accept connection: Listener closed\"\n",
            "WARNING:pyngrok.process.ngrok:t=2025-03-08T22:11:29+0000 lvl=warn msg=\"Stopping forwarder\" name=http-8501-018b4255-58af-4f2b-9ec6-111f3147f4d4 acceptErr=\"failed to accept connection: Listener closed\"\n"
          ]
        },
        {
          "output_type": "stream",
          "name": "stdout",
          "text": [
            "✅ All existing ngrok tunnels closed successfully.\n"
          ]
        }
      ]
    },
    {
      "cell_type": "code",
      "source": [
        "#▶️ Step 4.2: Run Streamlit App in Background & Expose via ngrok\n",
        "from pyngrok import ngrok\n",
        "import subprocess, time\n",
        "\n",
        "# Run Streamlit app in background on port 8501 explicitly set\n",
        "subprocess.Popen([\"streamlit\", \"run\", \"app.py\", \"--server.port=8501\"])\n",
        "\n",
        "# Wait briefly for Streamlit to start before creating tunnel\n",
        "time.sleep(5)\n",
        "\n",
        "# Create ngrok tunnel explicitly on port 8501 and display public URL clearly\n",
        "public_url = ngrok.connect(addr=8501)\n",
        "print(f\"\\n✅ Streamlit app is running successfully!\")\n",
        "print(f\"🌐 Public URL: {public_url}\\n\")\n"
      ],
      "metadata": {
        "colab": {
          "base_uri": "https://localhost:8080/"
        },
        "id": "VZ_OGMnwzQpO",
        "outputId": "5ba92453-cc1c-45f7-9f03-4ae34a733d65"
      },
      "execution_count": 30,
      "outputs": [
        {
          "output_type": "stream",
          "name": "stdout",
          "text": [
            "\n",
            "✅ Streamlit app is running successfully!\n",
            "🌐 Public URL: NgrokTunnel: \"https://f86b-34-70-185-151.ngrok-free.app\" -> \"http://localhost:8501\"\n",
            "\n"
          ]
        }
      ]
    },
    {
      "cell_type": "code",
      "source": [],
      "metadata": {
        "id": "BQ0ZI7VIzQsC"
      },
      "execution_count": null,
      "outputs": []
    },
    {
      "cell_type": "code",
      "source": [],
      "metadata": {
        "id": "J4Cs_KDJzQuo"
      },
      "execution_count": null,
      "outputs": []
    }
  ]
}